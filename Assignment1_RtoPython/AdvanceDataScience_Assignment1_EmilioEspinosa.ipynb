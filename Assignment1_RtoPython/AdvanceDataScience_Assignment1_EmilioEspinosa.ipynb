{
  "nbformat": 4,
  "nbformat_minor": 0,
  "metadata": {
    "colab": {
      "provenance": []
    },
    "kernelspec": {
      "name": "python3",
      "display_name": "Python 3"
    },
    "language_info": {
      "name": "python"
    }
  },
  "cells": [
    {
      "cell_type": "markdown",
      "source": [
        "# Assignment 1: Data Science \n",
        "## Emilio Espinosa \n"
      ],
      "metadata": {
        "id": "mitFzjLBzMK6"
      }
    },
    {
      "cell_type": "markdown",
      "source": [
        "## Load data"
      ],
      "metadata": {
        "id": "x7p3KlH9zXzr"
      }
    },
    {
      "cell_type": "code",
      "execution_count": 81,
      "metadata": {
        "id": "LAlQpDD8y8Tq"
      },
      "outputs": [],
      "source": [
        "import pandas as pd\n",
        "import numpy as np\n",
        "import seaborn as sns\n",
        "import matplotlib.pyplot as plt\n",
        "from sklearn.linear_model import LinearRegression\n",
        "import statsmodels.api as sm"
      ]
    },
    {
      "cell_type": "code",
      "source": [
        "from google.colab import drive\n",
        "drive.mount('/content/drive/')"
      ],
      "metadata": {
        "colab": {
          "base_uri": "https://localhost:8080/"
        },
        "id": "afmyr5NTzLrt",
        "outputId": "b5b07cd2-e4d6-41f2-eabc-6d7575f820cb"
      },
      "execution_count": 82,
      "outputs": [
        {
          "output_type": "stream",
          "name": "stdout",
          "text": [
            "Drive already mounted at /content/drive/; to attempt to forcibly remount, call drive.mount(\"/content/drive/\", force_remount=True).\n"
          ]
        }
      ]
    },
    {
      "cell_type": "code",
      "source": [
        "df = pd.read_csv('/content/drive/MyDrive/AdvancedData/Assignment1/curated_gene_disease_associations.tsv', delimiter='\\t')"
      ],
      "metadata": {
        "id": "TBRt565kzKsv"
      },
      "execution_count": 83,
      "outputs": []
    },
    {
      "cell_type": "code",
      "source": [
        "df.head()"
      ],
      "metadata": {
        "colab": {
          "base_uri": "https://localhost:8080/",
          "height": 319
        },
        "id": "dhgMJzQ60wti",
        "outputId": "642f8906-ded8-401b-dfbd-ed14b1524e1d"
      },
      "execution_count": 84,
      "outputs": [
        {
          "output_type": "execute_result",
          "data": {
            "text/plain": [
              "   geneId geneSymbol    DSI    DPI diseaseId               diseaseName  \\\n",
              "0       1       A1BG  0.857  0.172  C0019209              Hepatomegaly   \n",
              "1       1       A1BG  0.857  0.172  C0036341             Schizophrenia   \n",
              "2       2        A2M  0.564  0.724  C0002395       Alzheimer's Disease   \n",
              "3       2        A2M  0.564  0.724  C0007102  Malignant tumor of colon   \n",
              "4       2        A2M  0.564  0.724  C0009375         Colonic Neoplasms   \n",
              "\n",
              "  diseaseType diseaseClass               diseaseSemanticType  score        EI  \\\n",
              "0   phenotype      C06;C23                           Finding    0.3       NaN   \n",
              "1     disease          F03  Mental or Behavioral Dysfunction    0.3       NaN   \n",
              "2     disease      C10;F03               Disease or Syndrome    0.4  0.848485   \n",
              "3     disease      C04;C06                Neoplastic Process    0.3       NaN   \n",
              "4       group      C04;C06                Neoplastic Process    0.3       NaN   \n",
              "\n",
              "   YearInitial  YearFinal  NofPmids  NofSnps     source  \n",
              "0       2017.0     2017.0         1        0  CTD_human  \n",
              "1       2015.0     2015.0         1        0  CTD_human  \n",
              "2       1998.0     2016.0         3        0  CTD_human  \n",
              "3       2004.0     2004.0         1        0  CTD_human  \n",
              "4       2004.0     2004.0         1        0  CTD_human  "
            ],
            "text/html": [
              "\n",
              "  <div id=\"df-dee69877-8602-4584-bab6-ace3028d0523\">\n",
              "    <div class=\"colab-df-container\">\n",
              "      <div>\n",
              "<style scoped>\n",
              "    .dataframe tbody tr th:only-of-type {\n",
              "        vertical-align: middle;\n",
              "    }\n",
              "\n",
              "    .dataframe tbody tr th {\n",
              "        vertical-align: top;\n",
              "    }\n",
              "\n",
              "    .dataframe thead th {\n",
              "        text-align: right;\n",
              "    }\n",
              "</style>\n",
              "<table border=\"1\" class=\"dataframe\">\n",
              "  <thead>\n",
              "    <tr style=\"text-align: right;\">\n",
              "      <th></th>\n",
              "      <th>geneId</th>\n",
              "      <th>geneSymbol</th>\n",
              "      <th>DSI</th>\n",
              "      <th>DPI</th>\n",
              "      <th>diseaseId</th>\n",
              "      <th>diseaseName</th>\n",
              "      <th>diseaseType</th>\n",
              "      <th>diseaseClass</th>\n",
              "      <th>diseaseSemanticType</th>\n",
              "      <th>score</th>\n",
              "      <th>EI</th>\n",
              "      <th>YearInitial</th>\n",
              "      <th>YearFinal</th>\n",
              "      <th>NofPmids</th>\n",
              "      <th>NofSnps</th>\n",
              "      <th>source</th>\n",
              "    </tr>\n",
              "  </thead>\n",
              "  <tbody>\n",
              "    <tr>\n",
              "      <th>0</th>\n",
              "      <td>1</td>\n",
              "      <td>A1BG</td>\n",
              "      <td>0.857</td>\n",
              "      <td>0.172</td>\n",
              "      <td>C0019209</td>\n",
              "      <td>Hepatomegaly</td>\n",
              "      <td>phenotype</td>\n",
              "      <td>C06;C23</td>\n",
              "      <td>Finding</td>\n",
              "      <td>0.3</td>\n",
              "      <td>NaN</td>\n",
              "      <td>2017.0</td>\n",
              "      <td>2017.0</td>\n",
              "      <td>1</td>\n",
              "      <td>0</td>\n",
              "      <td>CTD_human</td>\n",
              "    </tr>\n",
              "    <tr>\n",
              "      <th>1</th>\n",
              "      <td>1</td>\n",
              "      <td>A1BG</td>\n",
              "      <td>0.857</td>\n",
              "      <td>0.172</td>\n",
              "      <td>C0036341</td>\n",
              "      <td>Schizophrenia</td>\n",
              "      <td>disease</td>\n",
              "      <td>F03</td>\n",
              "      <td>Mental or Behavioral Dysfunction</td>\n",
              "      <td>0.3</td>\n",
              "      <td>NaN</td>\n",
              "      <td>2015.0</td>\n",
              "      <td>2015.0</td>\n",
              "      <td>1</td>\n",
              "      <td>0</td>\n",
              "      <td>CTD_human</td>\n",
              "    </tr>\n",
              "    <tr>\n",
              "      <th>2</th>\n",
              "      <td>2</td>\n",
              "      <td>A2M</td>\n",
              "      <td>0.564</td>\n",
              "      <td>0.724</td>\n",
              "      <td>C0002395</td>\n",
              "      <td>Alzheimer's Disease</td>\n",
              "      <td>disease</td>\n",
              "      <td>C10;F03</td>\n",
              "      <td>Disease or Syndrome</td>\n",
              "      <td>0.4</td>\n",
              "      <td>0.848485</td>\n",
              "      <td>1998.0</td>\n",
              "      <td>2016.0</td>\n",
              "      <td>3</td>\n",
              "      <td>0</td>\n",
              "      <td>CTD_human</td>\n",
              "    </tr>\n",
              "    <tr>\n",
              "      <th>3</th>\n",
              "      <td>2</td>\n",
              "      <td>A2M</td>\n",
              "      <td>0.564</td>\n",
              "      <td>0.724</td>\n",
              "      <td>C0007102</td>\n",
              "      <td>Malignant tumor of colon</td>\n",
              "      <td>disease</td>\n",
              "      <td>C04;C06</td>\n",
              "      <td>Neoplastic Process</td>\n",
              "      <td>0.3</td>\n",
              "      <td>NaN</td>\n",
              "      <td>2004.0</td>\n",
              "      <td>2004.0</td>\n",
              "      <td>1</td>\n",
              "      <td>0</td>\n",
              "      <td>CTD_human</td>\n",
              "    </tr>\n",
              "    <tr>\n",
              "      <th>4</th>\n",
              "      <td>2</td>\n",
              "      <td>A2M</td>\n",
              "      <td>0.564</td>\n",
              "      <td>0.724</td>\n",
              "      <td>C0009375</td>\n",
              "      <td>Colonic Neoplasms</td>\n",
              "      <td>group</td>\n",
              "      <td>C04;C06</td>\n",
              "      <td>Neoplastic Process</td>\n",
              "      <td>0.3</td>\n",
              "      <td>NaN</td>\n",
              "      <td>2004.0</td>\n",
              "      <td>2004.0</td>\n",
              "      <td>1</td>\n",
              "      <td>0</td>\n",
              "      <td>CTD_human</td>\n",
              "    </tr>\n",
              "  </tbody>\n",
              "</table>\n",
              "</div>\n",
              "      <button class=\"colab-df-convert\" onclick=\"convertToInteractive('df-dee69877-8602-4584-bab6-ace3028d0523')\"\n",
              "              title=\"Convert this dataframe to an interactive table.\"\n",
              "              style=\"display:none;\">\n",
              "        \n",
              "  <svg xmlns=\"http://www.w3.org/2000/svg\" height=\"24px\"viewBox=\"0 0 24 24\"\n",
              "       width=\"24px\">\n",
              "    <path d=\"M0 0h24v24H0V0z\" fill=\"none\"/>\n",
              "    <path d=\"M18.56 5.44l.94 2.06.94-2.06 2.06-.94-2.06-.94-.94-2.06-.94 2.06-2.06.94zm-11 1L8.5 8.5l.94-2.06 2.06-.94-2.06-.94L8.5 2.5l-.94 2.06-2.06.94zm10 10l.94 2.06.94-2.06 2.06-.94-2.06-.94-.94-2.06-.94 2.06-2.06.94z\"/><path d=\"M17.41 7.96l-1.37-1.37c-.4-.4-.92-.59-1.43-.59-.52 0-1.04.2-1.43.59L10.3 9.45l-7.72 7.72c-.78.78-.78 2.05 0 2.83L4 21.41c.39.39.9.59 1.41.59.51 0 1.02-.2 1.41-.59l7.78-7.78 2.81-2.81c.8-.78.8-2.07 0-2.86zM5.41 20L4 18.59l7.72-7.72 1.47 1.35L5.41 20z\"/>\n",
              "  </svg>\n",
              "      </button>\n",
              "      \n",
              "  <style>\n",
              "    .colab-df-container {\n",
              "      display:flex;\n",
              "      flex-wrap:wrap;\n",
              "      gap: 12px;\n",
              "    }\n",
              "\n",
              "    .colab-df-convert {\n",
              "      background-color: #E8F0FE;\n",
              "      border: none;\n",
              "      border-radius: 50%;\n",
              "      cursor: pointer;\n",
              "      display: none;\n",
              "      fill: #1967D2;\n",
              "      height: 32px;\n",
              "      padding: 0 0 0 0;\n",
              "      width: 32px;\n",
              "    }\n",
              "\n",
              "    .colab-df-convert:hover {\n",
              "      background-color: #E2EBFA;\n",
              "      box-shadow: 0px 1px 2px rgba(60, 64, 67, 0.3), 0px 1px 3px 1px rgba(60, 64, 67, 0.15);\n",
              "      fill: #174EA6;\n",
              "    }\n",
              "\n",
              "    [theme=dark] .colab-df-convert {\n",
              "      background-color: #3B4455;\n",
              "      fill: #D2E3FC;\n",
              "    }\n",
              "\n",
              "    [theme=dark] .colab-df-convert:hover {\n",
              "      background-color: #434B5C;\n",
              "      box-shadow: 0px 1px 3px 1px rgba(0, 0, 0, 0.15);\n",
              "      filter: drop-shadow(0px 1px 2px rgba(0, 0, 0, 0.3));\n",
              "      fill: #FFFFFF;\n",
              "    }\n",
              "  </style>\n",
              "\n",
              "      <script>\n",
              "        const buttonEl =\n",
              "          document.querySelector('#df-dee69877-8602-4584-bab6-ace3028d0523 button.colab-df-convert');\n",
              "        buttonEl.style.display =\n",
              "          google.colab.kernel.accessAllowed ? 'block' : 'none';\n",
              "\n",
              "        async function convertToInteractive(key) {\n",
              "          const element = document.querySelector('#df-dee69877-8602-4584-bab6-ace3028d0523');\n",
              "          const dataTable =\n",
              "            await google.colab.kernel.invokeFunction('convertToInteractive',\n",
              "                                                     [key], {});\n",
              "          if (!dataTable) return;\n",
              "\n",
              "          const docLinkHtml = 'Like what you see? Visit the ' +\n",
              "            '<a target=\"_blank\" href=https://colab.research.google.com/notebooks/data_table.ipynb>data table notebook</a>'\n",
              "            + ' to learn more about interactive tables.';\n",
              "          element.innerHTML = '';\n",
              "          dataTable['output_type'] = 'display_data';\n",
              "          await google.colab.output.renderOutput(dataTable, element);\n",
              "          const docLink = document.createElement('div');\n",
              "          docLink.innerHTML = docLinkHtml;\n",
              "          element.appendChild(docLink);\n",
              "        }\n",
              "      </script>\n",
              "    </div>\n",
              "  </div>\n",
              "  "
            ]
          },
          "metadata": {},
          "execution_count": 84
        }
      ]
    },
    {
      "cell_type": "code",
      "source": [
        "df.describe()"
      ],
      "metadata": {
        "colab": {
          "base_uri": "https://localhost:8080/",
          "height": 300
        },
        "id": "6cY5NXOC1LCw",
        "outputId": "0bf6cff3-e0c2-4df7-d42c-217f635b5314"
      },
      "execution_count": 85,
      "outputs": [
        {
          "output_type": "execute_result",
          "data": {
            "text/plain": [
              "             geneId           DSI           DPI         score            EI  \\\n",
              "count  8.174600e+04  81620.000000  81598.000000  81746.000000  22862.000000   \n",
              "mean   6.214032e+05      0.577307      0.569338      0.345747      0.956704   \n",
              "std    7.676491e+06      0.136227      0.226062      0.112264      0.142197   \n",
              "min    1.000000e+00      0.251000      0.034000      0.010000      0.000000   \n",
              "25%    2.638000e+03      0.479000      0.414000      0.300000      1.000000   \n",
              "50%    5.428000e+03      0.572000      0.621000      0.300000      1.000000   \n",
              "75%    1.028000e+04      0.663000      0.759000      0.320000      1.000000   \n",
              "max    1.095801e+08      1.000000      0.966000      1.000000      1.000000   \n",
              "\n",
              "        YearInitial     YearFinal      NofPmids       NofSnps  \n",
              "count  73123.000000  73123.000000  81746.000000  81746.000000  \n",
              "mean    2006.373179   2010.641194      1.377853      0.982751  \n",
              "std        7.937566      5.954987      2.594623     14.596577  \n",
              "min     1916.000000   1952.000000      0.000000      0.000000  \n",
              "25%     2003.000000   2007.000000      1.000000      0.000000  \n",
              "50%     2008.000000   2011.000000      1.000000      0.000000  \n",
              "75%     2012.000000   2015.000000      1.000000      0.000000  \n",
              "max     2018.000000   2018.000000    124.000000   2343.000000  "
            ],
            "text/html": [
              "\n",
              "  <div id=\"df-e5030feb-cc44-4898-962a-0cf870ecbe01\">\n",
              "    <div class=\"colab-df-container\">\n",
              "      <div>\n",
              "<style scoped>\n",
              "    .dataframe tbody tr th:only-of-type {\n",
              "        vertical-align: middle;\n",
              "    }\n",
              "\n",
              "    .dataframe tbody tr th {\n",
              "        vertical-align: top;\n",
              "    }\n",
              "\n",
              "    .dataframe thead th {\n",
              "        text-align: right;\n",
              "    }\n",
              "</style>\n",
              "<table border=\"1\" class=\"dataframe\">\n",
              "  <thead>\n",
              "    <tr style=\"text-align: right;\">\n",
              "      <th></th>\n",
              "      <th>geneId</th>\n",
              "      <th>DSI</th>\n",
              "      <th>DPI</th>\n",
              "      <th>score</th>\n",
              "      <th>EI</th>\n",
              "      <th>YearInitial</th>\n",
              "      <th>YearFinal</th>\n",
              "      <th>NofPmids</th>\n",
              "      <th>NofSnps</th>\n",
              "    </tr>\n",
              "  </thead>\n",
              "  <tbody>\n",
              "    <tr>\n",
              "      <th>count</th>\n",
              "      <td>8.174600e+04</td>\n",
              "      <td>81620.000000</td>\n",
              "      <td>81598.000000</td>\n",
              "      <td>81746.000000</td>\n",
              "      <td>22862.000000</td>\n",
              "      <td>73123.000000</td>\n",
              "      <td>73123.000000</td>\n",
              "      <td>81746.000000</td>\n",
              "      <td>81746.000000</td>\n",
              "    </tr>\n",
              "    <tr>\n",
              "      <th>mean</th>\n",
              "      <td>6.214032e+05</td>\n",
              "      <td>0.577307</td>\n",
              "      <td>0.569338</td>\n",
              "      <td>0.345747</td>\n",
              "      <td>0.956704</td>\n",
              "      <td>2006.373179</td>\n",
              "      <td>2010.641194</td>\n",
              "      <td>1.377853</td>\n",
              "      <td>0.982751</td>\n",
              "    </tr>\n",
              "    <tr>\n",
              "      <th>std</th>\n",
              "      <td>7.676491e+06</td>\n",
              "      <td>0.136227</td>\n",
              "      <td>0.226062</td>\n",
              "      <td>0.112264</td>\n",
              "      <td>0.142197</td>\n",
              "      <td>7.937566</td>\n",
              "      <td>5.954987</td>\n",
              "      <td>2.594623</td>\n",
              "      <td>14.596577</td>\n",
              "    </tr>\n",
              "    <tr>\n",
              "      <th>min</th>\n",
              "      <td>1.000000e+00</td>\n",
              "      <td>0.251000</td>\n",
              "      <td>0.034000</td>\n",
              "      <td>0.010000</td>\n",
              "      <td>0.000000</td>\n",
              "      <td>1916.000000</td>\n",
              "      <td>1952.000000</td>\n",
              "      <td>0.000000</td>\n",
              "      <td>0.000000</td>\n",
              "    </tr>\n",
              "    <tr>\n",
              "      <th>25%</th>\n",
              "      <td>2.638000e+03</td>\n",
              "      <td>0.479000</td>\n",
              "      <td>0.414000</td>\n",
              "      <td>0.300000</td>\n",
              "      <td>1.000000</td>\n",
              "      <td>2003.000000</td>\n",
              "      <td>2007.000000</td>\n",
              "      <td>1.000000</td>\n",
              "      <td>0.000000</td>\n",
              "    </tr>\n",
              "    <tr>\n",
              "      <th>50%</th>\n",
              "      <td>5.428000e+03</td>\n",
              "      <td>0.572000</td>\n",
              "      <td>0.621000</td>\n",
              "      <td>0.300000</td>\n",
              "      <td>1.000000</td>\n",
              "      <td>2008.000000</td>\n",
              "      <td>2011.000000</td>\n",
              "      <td>1.000000</td>\n",
              "      <td>0.000000</td>\n",
              "    </tr>\n",
              "    <tr>\n",
              "      <th>75%</th>\n",
              "      <td>1.028000e+04</td>\n",
              "      <td>0.663000</td>\n",
              "      <td>0.759000</td>\n",
              "      <td>0.320000</td>\n",
              "      <td>1.000000</td>\n",
              "      <td>2012.000000</td>\n",
              "      <td>2015.000000</td>\n",
              "      <td>1.000000</td>\n",
              "      <td>0.000000</td>\n",
              "    </tr>\n",
              "    <tr>\n",
              "      <th>max</th>\n",
              "      <td>1.095801e+08</td>\n",
              "      <td>1.000000</td>\n",
              "      <td>0.966000</td>\n",
              "      <td>1.000000</td>\n",
              "      <td>1.000000</td>\n",
              "      <td>2018.000000</td>\n",
              "      <td>2018.000000</td>\n",
              "      <td>124.000000</td>\n",
              "      <td>2343.000000</td>\n",
              "    </tr>\n",
              "  </tbody>\n",
              "</table>\n",
              "</div>\n",
              "      <button class=\"colab-df-convert\" onclick=\"convertToInteractive('df-e5030feb-cc44-4898-962a-0cf870ecbe01')\"\n",
              "              title=\"Convert this dataframe to an interactive table.\"\n",
              "              style=\"display:none;\">\n",
              "        \n",
              "  <svg xmlns=\"http://www.w3.org/2000/svg\" height=\"24px\"viewBox=\"0 0 24 24\"\n",
              "       width=\"24px\">\n",
              "    <path d=\"M0 0h24v24H0V0z\" fill=\"none\"/>\n",
              "    <path d=\"M18.56 5.44l.94 2.06.94-2.06 2.06-.94-2.06-.94-.94-2.06-.94 2.06-2.06.94zm-11 1L8.5 8.5l.94-2.06 2.06-.94-2.06-.94L8.5 2.5l-.94 2.06-2.06.94zm10 10l.94 2.06.94-2.06 2.06-.94-2.06-.94-.94-2.06-.94 2.06-2.06.94z\"/><path d=\"M17.41 7.96l-1.37-1.37c-.4-.4-.92-.59-1.43-.59-.52 0-1.04.2-1.43.59L10.3 9.45l-7.72 7.72c-.78.78-.78 2.05 0 2.83L4 21.41c.39.39.9.59 1.41.59.51 0 1.02-.2 1.41-.59l7.78-7.78 2.81-2.81c.8-.78.8-2.07 0-2.86zM5.41 20L4 18.59l7.72-7.72 1.47 1.35L5.41 20z\"/>\n",
              "  </svg>\n",
              "      </button>\n",
              "      \n",
              "  <style>\n",
              "    .colab-df-container {\n",
              "      display:flex;\n",
              "      flex-wrap:wrap;\n",
              "      gap: 12px;\n",
              "    }\n",
              "\n",
              "    .colab-df-convert {\n",
              "      background-color: #E8F0FE;\n",
              "      border: none;\n",
              "      border-radius: 50%;\n",
              "      cursor: pointer;\n",
              "      display: none;\n",
              "      fill: #1967D2;\n",
              "      height: 32px;\n",
              "      padding: 0 0 0 0;\n",
              "      width: 32px;\n",
              "    }\n",
              "\n",
              "    .colab-df-convert:hover {\n",
              "      background-color: #E2EBFA;\n",
              "      box-shadow: 0px 1px 2px rgba(60, 64, 67, 0.3), 0px 1px 3px 1px rgba(60, 64, 67, 0.15);\n",
              "      fill: #174EA6;\n",
              "    }\n",
              "\n",
              "    [theme=dark] .colab-df-convert {\n",
              "      background-color: #3B4455;\n",
              "      fill: #D2E3FC;\n",
              "    }\n",
              "\n",
              "    [theme=dark] .colab-df-convert:hover {\n",
              "      background-color: #434B5C;\n",
              "      box-shadow: 0px 1px 3px 1px rgba(0, 0, 0, 0.15);\n",
              "      filter: drop-shadow(0px 1px 2px rgba(0, 0, 0, 0.3));\n",
              "      fill: #FFFFFF;\n",
              "    }\n",
              "  </style>\n",
              "\n",
              "      <script>\n",
              "        const buttonEl =\n",
              "          document.querySelector('#df-e5030feb-cc44-4898-962a-0cf870ecbe01 button.colab-df-convert');\n",
              "        buttonEl.style.display =\n",
              "          google.colab.kernel.accessAllowed ? 'block' : 'none';\n",
              "\n",
              "        async function convertToInteractive(key) {\n",
              "          const element = document.querySelector('#df-e5030feb-cc44-4898-962a-0cf870ecbe01');\n",
              "          const dataTable =\n",
              "            await google.colab.kernel.invokeFunction('convertToInteractive',\n",
              "                                                     [key], {});\n",
              "          if (!dataTable) return;\n",
              "\n",
              "          const docLinkHtml = 'Like what you see? Visit the ' +\n",
              "            '<a target=\"_blank\" href=https://colab.research.google.com/notebooks/data_table.ipynb>data table notebook</a>'\n",
              "            + ' to learn more about interactive tables.';\n",
              "          element.innerHTML = '';\n",
              "          dataTable['output_type'] = 'display_data';\n",
              "          await google.colab.output.renderOutput(dataTable, element);\n",
              "          const docLink = document.createElement('div');\n",
              "          docLink.innerHTML = docLinkHtml;\n",
              "          element.appendChild(docLink);\n",
              "        }\n",
              "      </script>\n",
              "    </div>\n",
              "  </div>\n",
              "  "
            ]
          },
          "metadata": {},
          "execution_count": 85
        }
      ]
    },
    {
      "cell_type": "markdown",
      "source": [
        "## Growth Process"
      ],
      "metadata": {
        "id": "vbXSbzMV1j85"
      }
    },
    {
      "cell_type": "code",
      "source": [
        "# hist(df$YearInitial, col='gray', xlab='Initial year', breaks = 100)\n",
        "\n",
        "sns.histplot(data=df.YearInitial,color='gray',bins=100).set_title('Initial Year')"
      ],
      "metadata": {
        "colab": {
          "base_uri": "https://localhost:8080/",
          "height": 313
        },
        "id": "97mfRw-Q1Ekh",
        "outputId": "cab4579c-6397-4e70-93f1-93556ccf6f5f"
      },
      "execution_count": 86,
      "outputs": [
        {
          "output_type": "execute_result",
          "data": {
            "text/plain": [
              "Text(0.5, 1.0, 'Initial Year')"
            ]
          },
          "metadata": {},
          "execution_count": 86
        },
        {
          "output_type": "display_data",
          "data": {
            "text/plain": [
              "<Figure size 432x288 with 1 Axes>"
            ],
            "image/png": "[encoded data removed]"
          },
          "metadata": {
            "needs_background": "light"
          }
        }
      ]
    },
    {
      "cell_type": "code",
      "source": [
        "tb = df.YearInitial\n",
        "tb.head()"
      ],
      "metadata": {
        "colab": {
          "base_uri": "https://localhost:8080/"
        },
        "id": "y3WDh8Mt16qM",
        "outputId": "7bd284e5-0fad-48e7-9c7c-70d7e6951454"
      },
      "execution_count": 87,
      "outputs": [
        {
          "output_type": "execute_result",
          "data": {
            "text/plain": [
              "0    2017.0\n",
              "1    2015.0\n",
              "2    1998.0\n",
              "3    2004.0\n",
              "4    2004.0\n",
              "Name: YearInitial, dtype: float64"
            ]
          },
          "metadata": {},
          "execution_count": 87
        }
      ]
    },
    {
      "cell_type": "code",
      "source": [
        "x = sorted(tb.dropna().unique())"
      ],
      "metadata": {
        "id": "b8LUn4Xo2h-d"
      },
      "execution_count": 88,
      "outputs": []
    },
    {
      "cell_type": "code",
      "source": [
        "y = np.cumsum(tb.value_counts().sort_index())"
      ],
      "metadata": {
        "id": "ErHukul44FDn"
      },
      "execution_count": 89,
      "outputs": []
    },
    {
      "cell_type": "code",
      "source": [
        "#plot(x,y, pch=19, type='l', xlab='Year', ylab='Total number of associations', lwd=5)\n",
        "ax = sns.lineplot(x=x,y=y)\n",
        "ax.set(xlabel='Year', ylabel='Total number of associations')"
      ],
      "metadata": {
        "colab": {
          "base_uri": "https://localhost:8080/",
          "height": 297
        },
        "id": "K7nd-JmT4FvE",
        "outputId": "42fd086b-468e-4e75-c203-3290a6f729e9"
      },
      "execution_count": 90,
      "outputs": [
        {
          "output_type": "execute_result",
          "data": {
            "text/plain": [
              "[Text(0, 0.5, 'Total number of associations'), Text(0.5, 0, 'Year')]"
            ]
          },
          "metadata": {},
          "execution_count": 90
        },
        {
          "output_type": "display_data",
          "data": {
            "text/plain": [
              "<Figure size 432x288 with 1 Axes>"
            ],
            "image/png": "[encoded data removed]"
          },
          "metadata": {
            "needs_background": "light"
          }
        }
      ]
    },
    {
      "cell_type": "code",
      "source": [
        "ax = sns.lineplot(x=x,y=np.log(y))\n",
        "ax.set(xlabel='Year', ylabel='Total number of associations')"
      ],
      "metadata": {
        "colab": {
          "base_uri": "https://localhost:8080/",
          "height": 297
        },
        "id": "03gY4ESA6PVY",
        "outputId": "30ffab71-36ac-4049-ecf1-816163059a44"
      },
      "execution_count": 91,
      "outputs": [
        {
          "output_type": "execute_result",
          "data": {
            "text/plain": [
              "[Text(0, 0.5, 'Total number of associations'), Text(0.5, 0, 'Year')]"
            ]
          },
          "metadata": {},
          "execution_count": 91
        },
        {
          "output_type": "display_data",
          "data": {
            "text/plain": [
              "<Figure size 432x288 with 1 Axes>"
            ],
            "image/png": "[encoded data removed]"
          },
          "metadata": {
            "needs_background": "light"
          }
        }
      ]
    },
    {
      "cell_type": "code",
      "source": [
        "logy = np.log(y)/np.log(2)"
      ],
      "metadata": {
        "id": "mdzh1AVw5ScY"
      },
      "execution_count": 92,
      "outputs": []
    },
    {
      "cell_type": "code",
      "source": [
        "inds = logy.index>1945\n",
        "logx = pd.Series(x)"
      ],
      "metadata": {
        "id": "ssHQjUGr6pbn"
      },
      "execution_count": 93,
      "outputs": []
    },
    {
      "cell_type": "code",
      "source": [
        "logy[inds].shape"
      ],
      "metadata": {
        "colab": {
          "base_uri": "https://localhost:8080/"
        },
        "id": "OUh4tICL84ni",
        "outputId": "10b9f72e-e12b-4745-bb63-0e91b735e96f"
      },
      "execution_count": 94,
      "outputs": [
        {
          "output_type": "execute_result",
          "data": {
            "text/plain": [
              "(69,)"
            ]
          },
          "metadata": {},
          "execution_count": 94
        }
      ]
    },
    {
      "cell_type": "code",
      "source": [
        "inds = np.array(inds)\n",
        "logx = np.array(logx)\n",
        "logy = np.array(logy)"
      ],
      "metadata": {
        "id": "rdI7kvLo9ucU"
      },
      "execution_count": 95,
      "outputs": []
    },
    {
      "cell_type": "code",
      "source": [
        "reg = LinearRegression().fit(logx[inds].reshape(-1, 1), logy[inds])\n",
        "y_pred = reg.predict(np.array(logx[inds]).reshape(-1,1))"
      ],
      "metadata": {
        "id": "OjPN8yeZ6vSG"
      },
      "execution_count": 96,
      "outputs": []
    },
    {
      "cell_type": "code",
      "source": [
        "X2=np.array(logx[inds]).reshape(-1,1)\n",
        "y2=logy[inds]\n",
        "model = sm.OLS(y2, X2).fit()\n",
        "print(model.summary())"
      ],
      "metadata": {
        "colab": {
          "base_uri": "https://localhost:8080/"
        },
        "id": "U73j7Crm80Q9",
        "outputId": "eaa5b1ff-d409-49b0-e6eb-050383c10843"
      },
      "execution_count": 97,
      "outputs": [
        {
          "output_type": "stream",
          "name": "stdout",
          "text": [
            "                                 OLS Regression Results                                \n",
            "=======================================================================================\n",
            "Dep. Variable:                      y   R-squared (uncentered):                   0.871\n",
            "Model:                            OLS   Adj. R-squared (uncentered):              0.869\n",
            "Method:                 Least Squares   F-statistic:                              458.3\n",
            "Date:                Mon, 09 Jan 2023   Prob (F-statistic):                    6.28e-32\n",
            "Time:                        17:51:35   Log-Likelihood:                         -192.99\n",
            "No. Observations:                  69   AIC:                                      388.0\n",
            "Df Residuals:                      68   BIC:                                      390.2\n",
            "Df Model:                           1                                                  \n",
            "Covariance Type:            nonrobust                                                  \n",
            "==============================================================================\n",
            "                 coef    std err          t      P>|t|      [0.025      0.975]\n",
            "------------------------------------------------------------------------------\n",
            "x1             0.0052      0.000     21.407      0.000       0.005       0.006\n",
            "==============================================================================\n",
            "Omnibus:                       18.843   Durbin-Watson:                   0.003\n",
            "Prob(Omnibus):                  0.000   Jarque-Bera (JB):                4.355\n",
            "Skew:                          -0.155   Prob(JB):                        0.113\n",
            "Kurtosis:                       1.809   Cond. No.                         1.00\n",
            "==============================================================================\n",
            "\n",
            "Notes:\n",
            "[1] R² is computed without centering (uncentered) since the model does not contain a constant.\n",
            "[2] Standard Errors assume that the covariance matrix of the errors is correctly specified.\n"
          ]
        }
      ]
    },
    {
      "cell_type": "code",
      "source": [
        "plt.plot(logx[inds], logy[inds]) \n",
        "plt.plot(logx[inds], y_pred,'r--')\n",
        "plt.xlabel('Year')\n",
        "plt.ylabel('Cumulative number')"
      ],
      "metadata": {
        "colab": {
          "base_uri": "https://localhost:8080/",
          "height": 297
        },
        "id": "hIjCpPWR_UZC",
        "outputId": "96d36130-04c3-4eee-8bdb-f1e1404ef8c0"
      },
      "execution_count": 109,
      "outputs": [
        {
          "output_type": "execute_result",
          "data": {
            "text/plain": [
              "Text(0, 0.5, 'Cumulative number')"
            ]
          },
          "metadata": {},
          "execution_count": 109
        },
        {
          "output_type": "display_data",
          "data": {
            "text/plain": [
              "<Figure size 432x288 with 1 Axes>"
            ],
            "image/png": "[encoded data removed]"
          },
          "metadata": {
            "needs_background": "light"
          }
        }
      ]
    },
    {
      "cell_type": "code",
      "source": [
        "# # the fit already incliudes the term log(2) in our case\n",
        "# doubling_rate <- 1 / a\n",
        "# print(paste('The total number of known associations doubles every', signif(doubling_rate,2),'years!'))\n",
        "reg.coef_"
      ],
      "metadata": {
        "colab": {
          "base_uri": "https://localhost:8080/"
        },
        "id": "_XXjHSCXDBb6",
        "outputId": "12ee55ca-a356-4c7e-9fc2-4f739f4c2136"
      },
      "execution_count": 99,
      "outputs": [
        {
          "output_type": "execute_result",
          "data": {
            "text/plain": [
              "array([0.20112224])"
            ]
          },
          "metadata": {},
          "execution_count": 99
        }
      ]
    },
    {
      "cell_type": "code",
      "source": [
        "a = reg.coef_\n",
        "doubling_rate = 1/a\n",
        "print(f'The total number of known associations doubles every {doubling_rate} years!')"
      ],
      "metadata": {
        "colab": {
          "base_uri": "https://localhost:8080/"
        },
        "id": "rw9a9Q0xOinX",
        "outputId": "e70561a8-0f00-4619-a8c1-07cad63c6fb3"
      },
      "execution_count": 100,
      "outputs": [
        {
          "output_type": "stream",
          "name": "stdout",
          "text": [
            "The total number of known associations doubles every [4.97210066] years!\n"
          ]
        }
      ]
    },
    {
      "cell_type": "code",
      "source": [],
      "metadata": {
        "id": "j0xxWJFXmgek"
      },
      "execution_count": null,
      "outputs": []
    }
  ]
}